{
 "cells": [
  {
   "cell_type": "markdown",
   "id": "8ae6ae06-ffc3-4226-b261-77d45daf96f1",
   "metadata": {},
   "source": [
    "# CATEGORIES TRAINED ON : \n",
    "\n",
    "### Credit card or prepaid card\n",
    "### Checking or savings account\n",
    "### Mortgage"
   ]
  },
  {
   "cell_type": "code",
   "execution_count": 1,
   "id": "baf2573f-0ef5-4eb9-9348-ac6985d16204",
   "metadata": {},
   "outputs": [
    {
     "name": "stderr",
     "output_type": "stream",
     "text": [
      "C:\\Users\\chira\\AppData\\Local\\Programs\\Python\\Python312\\Lib\\site-packages\\threadpoolctl.py:1214: RuntimeWarning: \n",
      "Found Intel OpenMP ('libiomp') and LLVM OpenMP ('libomp') loaded at\n",
      "the same time. Both libraries are known to be incompatible and this\n",
      "can cause random crashes or deadlocks on Linux when loaded in the\n",
      "same Python program.\n",
      "Using threadpoolctl may cause crashes or deadlocks. For more\n",
      "information and possible workarounds, please see\n",
      "    https://github.com/joblib/threadpoolctl/blob/master/multiple_openmp.md\n",
      "\n",
      "  warnings.warn(msg, RuntimeWarning)\n"
     ]
    },
    {
     "name": "stdout",
     "output_type": "stream",
     "text": [
      "WARNING:tensorflow:From C:\\Users\\chira\\AppData\\Local\\Programs\\Python\\Python312\\Lib\\site-packages\\tf_keras\\src\\losses.py:2976: The name tf.losses.sparse_softmax_cross_entropy is deprecated. Please use tf.compat.v1.losses.sparse_softmax_cross_entropy instead.\n",
      "\n"
     ]
    }
   ],
   "source": [
    "from transformers import pipeline\n",
    "\n",
    "classifier = pipeline('text-classification', model= 'bank_customer_ticket_category_classifier', device='cuda')"
   ]
  },
  {
   "cell_type": "code",
   "execution_count": 4,
   "id": "5d10cfcc-e501-48b9-9819-d67ed08bddfb",
   "metadata": {},
   "outputs": [
    {
     "data": {
      "text/plain": [
       "[{'label': 'Checking or savings account', 'score': 0.999685525894165}]"
      ]
     },
     "execution_count": 4,
     "metadata": {},
     "output_type": "execute_result"
    }
   ],
   "source": [
    "classifier(f\" I am unable to change my name in savings account\")"
   ]
  },
  {
   "cell_type": "code",
   "execution_count": 5,
   "id": "a571b1a8-35e1-4c25-8d21-7b2d2d772ca5",
   "metadata": {},
   "outputs": [
    {
     "data": {
      "text/plain": [
       "[{'label': 'Credit card or prepaid card', 'score': 0.747100830078125}]"
      ]
     },
     "execution_count": 5,
     "metadata": {},
     "output_type": "execute_result"
    }
   ],
   "source": [
    "classifier(f\" I want to watch a movie.\")"
   ]
  },
  {
   "cell_type": "code",
   "execution_count": 6,
   "id": "858b4cbe-7612-4a24-a6be-3a26c3c3157a",
   "metadata": {},
   "outputs": [
    {
     "data": {
      "text/plain": [
       "[{'label': 'Credit card or prepaid card', 'score': 0.9985957741737366}]"
      ]
     },
     "execution_count": 6,
     "metadata": {},
     "output_type": "execute_result"
    }
   ],
   "source": [
    "classifier(f\" I want to watch a movie by booking ticket using banks credit card, it says incorrect pin. Help me solve the issue.\")"
   ]
  },
  {
   "cell_type": "code",
   "execution_count": null,
   "id": "b93fdb2e-842c-4850-8231-37d49ec25421",
   "metadata": {},
   "outputs": [],
   "source": []
  }
 ],
 "metadata": {
  "kernelspec": {
   "display_name": "Python 3 (ipykernel)",
   "language": "python",
   "name": "python3"
  },
  "language_info": {
   "codemirror_mode": {
    "name": "ipython",
    "version": 3
   },
   "file_extension": ".py",
   "mimetype": "text/x-python",
   "name": "python",
   "nbconvert_exporter": "python",
   "pygments_lexer": "ipython3",
   "version": "3.12.3"
  }
 },
 "nbformat": 4,
 "nbformat_minor": 5
}
