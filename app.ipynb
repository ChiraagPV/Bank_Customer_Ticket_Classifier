{
 "cells": [
  {
   "cell_type": "code",
   "execution_count": null,
   "id": "847cb930-4356-4749-a138-f8790e53d9ad",
   "metadata": {},
   "outputs": [],
   "source": [
    "import streamlit as st\n",
    "import pandas as pd\n",
    "import numpy as np\n",
    "from transformers import pipeline\n",
    "import warnings\n",
    "\n",
    "\n",
    "warnings.filterwarnings('ignore')\n",
    "\n",
    "st.title(\"Classifying the complaints raised by customers to categories using Artificial Intelligence\")\n",
    "\n",
    "classifier = pipeline('text-classification', model= 'bank_customer_ticket_category_classifier')\n",
    "\n",
    "text = st.text_area(\"Enter some text\")\n",
    "\n",
    "if st.button(\"Predict\"):\n",
    "    result = classifier(text)\n",
    "    st.write(result)"
   ]
  }
 ],
 "metadata": {
  "kernelspec": {
   "display_name": "Python 3 (ipykernel)",
   "language": "python",
   "name": "python3"
  },
  "language_info": {
   "codemirror_mode": {
    "name": "ipython",
    "version": 3
   },
   "file_extension": ".py",
   "mimetype": "text/x-python",
   "name": "python",
   "nbconvert_exporter": "python",
   "pygments_lexer": "ipython3",
   "version": "3.12.3"
  }
 },
 "nbformat": 4,
 "nbformat_minor": 5
}
